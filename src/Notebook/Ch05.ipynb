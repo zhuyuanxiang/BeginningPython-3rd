{
 "cells": [
  {
   "cell_type": "markdown",
   "metadata": {
    "collapsed": true,
    "pycharm": {
     "name": "#%% md\n"
    }
   },
   "source": [
    "# C05 程序的重要元素——语句\n",
    "\n",
    "\n"
   ]
  },
  {
   "source": [
    "## 5.1 print()\n",
    "\n",
    "注：使用模块 logging 来写入日志比使用 print() 更合适，Ref Ch19\n",
    "\n",
    "### 5.1.1 打印多个参数"
   ],
   "cell_type": "markdown",
   "metadata": {}
  },
  {
   "cell_type": "code",
   "execution_count": 8,
   "metadata": {},
   "outputs": [
    {
     "output_type": "stream",
     "name": "stdout",
     "text": [
      "age: 42\nHello, Mr. Gumby\nHello, Mr. Gumby\nHello,_Mr._Gumby\nHello, Mr. Gumby\n"
     ]
    }
   ],
   "source": [
    "# 打印多个参数，使用逗号分隔，系统会自动在参数之间插入一个空格字符\n",
    "print(\"age:\",42)\n",
    "name='Gumby'\n",
    "salutation='Mr.'\n",
    "greeting=\"Hello,\"\n",
    "print(greeting,salutation,name)\n",
    "greeting=\"Hello\"\n",
    "print(greeting+',',salutation,name)\n",
    "print(greeting+',',salutation,name,sep='_')\n",
    "print(greeting+',',end=' ')\n",
    "print(salutation,name)"
   ]
  },
  {
   "source": [
    "## 5.1 import()\n",
    "\n",
    "### 5.1.2 导入时重命名"
   ],
   "cell_type": "markdown",
   "metadata": {}
  },
  {
   "cell_type": "code",
   "execution_count": 11,
   "metadata": {},
   "outputs": [
    {
     "output_type": "stream",
     "name": "stdout",
     "text": [
      "2.0\n2.0\n"
     ]
    }
   ],
   "source": [
    "import math as mathematics\n",
    "\n",
    "print(mathematics.sqrt(4))\n",
    "\n",
    "from math import sqrt as square_root\n",
    "\n",
    "print(square_root(4))"
   ]
  },
  {
   "source": [
    "## 5.2 赋值\n",
    "\n"
   ],
   "cell_type": "markdown",
   "metadata": {}
  },
  {
   "source": [
    "### 5.2.1 序列解包\n",
    "\n"
   ],
   "cell_type": "markdown",
   "metadata": {}
  },
  {
   "cell_type": "code",
   "execution_count": 14,
   "metadata": {},
   "outputs": [
    {
     "output_type": "stream",
     "name": "stdout",
     "text": [
      "1 2 3\n2 1 3\n1 2 3\n"
     ]
    }
   ],
   "source": [
    "x, y, z= 1, 2, 3\n",
    "print(x,y,z)\n",
    "\n",
    "x,y=y,x\n",
    "print(x,y,z)\n",
    "\n",
    "# 序列解包：也叫可迭代对象解包，将一个序列(或者任何可迭代的对象)解包，并将得到的值存储到一系列的变量中\n",
    "values=1,2,3\n",
    "x,y,z=values\n",
    "print(x,y,z)\n"
   ]
  },
  {
   "cell_type": "code",
   "execution_count": 16,
   "metadata": {},
   "outputs": [
    {
     "output_type": "stream",
     "name": "stdout",
     "text": [
      "girlfriend: Marion\n"
     ]
    }
   ],
   "source": [
    "# 从字典中取出「键-值对」\n",
    "scoundrel={'name':'Robin', 'girlfriend':'Marion'}\n",
    "key, value=scoundrel.popitem()\n",
    "print(key+':', value)"
   ]
  },
  {
   "cell_type": "code",
   "execution_count": 19,
   "metadata": {},
   "outputs": [
    {
     "output_type": "stream",
     "name": "stdout",
     "text": [
      "1 2 [3, 4, 5, 6]\n1 [2, 3, 4, 5] 6\n1 [2] 3\n"
     ]
    }
   ],
   "source": [
    "# 使用 * 号收集多余的值\n",
    "x,y, *rest = 1,2,3,4,5,6\n",
    "print(x,y,rest)\n",
    "x, *rest, z=1,2,3,4,5,6\n",
    "print(x,rest,z)\n",
    "x, *rest, z=1,2,3\n",
    "print(x,rest,z)"
   ]
  },
  {
   "source": [
    "### 5.2.2 链式赋值\n",
    "\n",
    "链式赋值是一种快捷方式，用于将多个变量关联到同一个值。"
   ],
   "cell_type": "markdown",
   "metadata": {}
  },
  {
   "cell_type": "code",
   "execution_count": 20,
   "metadata": {},
   "outputs": [
    {
     "output_type": "stream",
     "name": "stdout",
     "text": [
      "1 1\n"
     ]
    }
   ],
   "source": [
    "x=y=1\n",
    "print(x,y)"
   ]
  },
  {
   "source": [
    "### 5.2.3 增强赋值\n",
    "\n",
    "适用于所有标准运算符，例如：+、-、*、/、**、%\n",
    "\n",
    "使用增强赋值，可以使代码更加简洁、易读"
   ],
   "cell_type": "markdown",
   "metadata": {}
  },
  {
   "cell_type": "code",
   "execution_count": 22,
   "metadata": {},
   "outputs": [
    {
     "output_type": "stream",
     "name": "stdout",
     "text": [
      "3\n6\n36\n"
     ]
    }
   ],
   "source": [
    "x=2\n",
    "x+=1\n",
    "print(x)\n",
    "x*=2\n",
    "print(x)\n",
    "x**=2\n",
    "print(x)"
   ]
  },
  {
   "cell_type": "code",
   "execution_count": 23,
   "metadata": {},
   "outputs": [
    {
     "output_type": "stream",
     "name": "stdout",
     "text": [
      "foobar\nfoobarfoobar\n"
     ]
    }
   ],
   "source": [
    "fnord='foo'\n",
    "fnord+='bar'\n",
    "print(fnord)\n",
    "fnord *=2\n",
    "print(fnord)"
   ]
  },
  {
   "source": [
    "## 5.3 代码块缩进\n",
    "\n",
    "代码块是一组语句，可以满足条件时执行。代码块是通过缩进代码来创建的。在同一个代码块中，各行代码的缩进量必须相同。代码块的声明使用冒号(：)"
   ],
   "cell_type": "markdown",
   "metadata": {}
  },
  {
   "source": [
    "## 5.4 条件语句\n",
    "\n"
   ],
   "cell_type": "markdown",
   "metadata": {}
  },
  {
   "source": [
    "### 5.4.1 布尔值\n",
    "\n"
   ],
   "cell_type": "markdown",
   "metadata": {}
  },
  {
   "cell_type": "code",
   "execution_count": 6,
   "metadata": {},
   "outputs": [
    {
     "output_type": "stream",
     "name": "stdout",
     "text": [
      "True\nTrue\n101\nTrue\nTrue\nbool('')= False\nbool(0)= False\nbool(())= False\nbool([])= False\n"
     ]
    }
   ],
   "source": [
    "# True 和 False 是 1 和 0 的别名\n",
    "print(True==1)\n",
    "print(False==0)\n",
    "print(100+True+False)\n",
    "print(bool(\"I think, therefore I am\"))\n",
    "print(bool(100))\n",
    "print(\"bool('')=\",bool(''))\n",
    "print(\"bool(0)=\",bool(0))\n",
    "print(\"bool(())=\",bool(()))\n",
    "print(\"bool([])=\",bool([]))"
   ]
  },
  {
   "source": [
    "### 5.4.2 if\n",
    "\n"
   ],
   "cell_type": "markdown",
   "metadata": {}
  },
  {
   "cell_type": "code",
   "execution_count": 7,
   "metadata": {},
   "outputs": [
    {
     "output_type": "stream",
     "name": "stdout",
     "text": [
      "Hello, Mr. Gumby.\n"
     ]
    }
   ],
   "source": [
    "name=input(\"What is your name?\")\n",
    "if name.endswith('Gumby'):\n",
    "    print(\"Hello, Mr. Gumby.\")"
   ]
  },
  {
   "source": [
    "### 5.4.3 else\n",
    "\n"
   ],
   "cell_type": "markdown",
   "metadata": {}
  },
  {
   "cell_type": "code",
   "execution_count": 8,
   "metadata": {},
   "outputs": [
    {
     "output_type": "stream",
     "name": "stdout",
     "text": [
      "Hello, stranger\n"
     ]
    }
   ],
   "source": [
    "name=input(\"What is your name?\")\n",
    "if name.endswith('Gumby'):\n",
    "    print(\"Hello, My. Gumby\")\n",
    "else:\n",
    "    print(\"Hello, stranger\")"
   ]
  },
  {
   "cell_type": "code",
   "execution_count": 9,
   "metadata": {},
   "outputs": [
    {
     "output_type": "stream",
     "name": "stdout",
     "text": [
      "stranger\n"
     ]
    }
   ],
   "source": [
    "# 条件表达式\n",
    "name=input(\"What is your name?\")\n",
    "status=\"firend\" if name.endswith('Gumby') else 'stranger'\n",
    "print(status)"
   ]
  },
  {
   "source": [
    "### 5.4.4 elif(else if)\n",
    "\n"
   ],
   "cell_type": "markdown",
   "metadata": {}
  },
  {
   "cell_type": "code",
   "execution_count": 10,
   "metadata": {},
   "outputs": [
    {
     "output_type": "stream",
     "name": "stdout",
     "text": [
      "The number is positive\n"
     ]
    }
   ],
   "source": [
    "num=int(input(\"Enter a number:\"))\n",
    "if num>0:\n",
    "    print(\"The number is positive\")\n",
    "elif num<0:\n",
    "    print(\"The number is negative\")\n",
    "else:\n",
    "    print(\"The number is zero\")"
   ]
  },
  {
   "source": [
    "### 5.4.5 代码块嵌套\n",
    "\n"
   ],
   "cell_type": "markdown",
   "metadata": {}
  },
  {
   "cell_type": "code",
   "execution_count": 11,
   "metadata": {},
   "outputs": [
    {
     "output_type": "stream",
     "name": "stdout",
     "text": [
      "Hello, Mrs. Gumby\n"
     ]
    }
   ],
   "source": [
    "name=input(\"What is your name?\")\n",
    "if name.endswith('Gumby'):\n",
    "    if name.startswith('Mr.'):\n",
    "        print(\"Hello, Mr. Gumby\")\n",
    "    elif name.startswith('Mrs.'):\n",
    "        print(\"Hello, Mrs. Gumby\")\n",
    "    else:\n",
    "        print(\"Hello, Gumby\")\n",
    "else:\n",
    "    print(\"Hello, stranger\")"
   ]
  },
  {
   "source": [
    "### 5.4.6 复杂的条件\n",
    "\n",
    "表5-1：Python 比较运算符"
   ],
   "cell_type": "markdown",
   "metadata": {}
  },
  {
   "cell_type": "code",
   "execution_count": 12,
   "metadata": {},
   "outputs": [
    {
     "output_type": "stream",
     "name": "stdout",
     "text": [
      "True\nFalse\n"
     ]
    }
   ],
   "source": [
    "# 相等运算符\n",
    "print(\"foo\"==\"foo\")\n",
    "print(\"foo\"==\"bar\")"
   ]
  },
  {
   "cell_type": "code",
   "execution_count": 13,
   "metadata": {},
   "outputs": [
    {
     "output_type": "stream",
     "name": "stdout",
     "text": [
      "True\nTrue\nTrue\nFalse\n"
     ]
    }
   ],
   "source": [
    "# 相同运算符\n",
    "x=y=[1,2,3]\n",
    "z=[1,2,3]\n",
    "print(x==y)\n",
    "print(x==z)\n",
    "print(x is y)\n",
    "print(x is z)"
   ]
  },
  {
   "cell_type": "code",
   "execution_count": 16,
   "metadata": {},
   "outputs": [
    {
     "output_type": "stream",
     "name": "stdout",
     "text": [
      "True\n[1, 2]\n[1, 2]\nTrue\nFalse\n"
     ]
    }
   ],
   "source": [
    "x=[1,2,3]\n",
    "y=[2,4]\n",
    "print(x is not y)\n",
    "del x[2]\n",
    "y[1]=1\n",
    "y.reverse()\n",
    "print(x)\n",
    "print(y)\n",
    "print(x==y)\n",
    "print(x is y)"
   ]
  },
  {
   "cell_type": "code",
   "execution_count": 17,
   "metadata": {},
   "outputs": [
    {
     "output_type": "stream",
     "name": "stdout",
     "text": [
      "Your name does nt containt the letter 's'.\n"
     ]
    }
   ],
   "source": [
    "# 成员资格运算符\n",
    "name=input(\"What is your name?\")\n",
    "if 's' in name:\n",
    "    print(\"Your name contains the letter 's'.\")\n",
    "else:\n",
    "    print(\"Your name does nt containt the letter 's'.\")"
   ]
  },
  {
   "cell_type": "code",
   "execution_count": 20,
   "metadata": {},
   "outputs": [
    {
     "output_type": "stream",
     "name": "stdout",
     "text": [
      "True\nTrue\nTrue\n"
     ]
    }
   ],
   "source": [
    "# 字符串和序列的比较\n",
    "print(\"alpha\"<\"beta\")\n",
    "print([1,2]<[2,1])\n",
    "print([2,[1,4]]<[2,[1,5]])"
   ]
  },
  {
   "cell_type": "code",
   "execution_count": 21,
   "metadata": {},
   "outputs": [
    {
     "output_type": "stream",
     "name": "stdout",
     "text": [
      "Great!\n"
     ]
    }
   ],
   "source": [
    "# 布尔运算符\n",
    "number=int(input(\"Enter a number between 1 and 10:\"))\n",
    "if number<=10:\n",
    "    if number>=1:\n",
    "        print(\"Great!\")\n",
    "    else:\n",
    "        print(\"Wrong!\")\n",
    "else:\n",
    "    print(\"Wrong!\")"
   ]
  },
  {
   "cell_type": "code",
   "execution_count": null,
   "metadata": {},
   "outputs": [],
   "source": [
    "number=int(input(\"Enter a number between 1 and 10:\"))\n",
    "if number<=10 and number>=1:\n",
    "    print(\"Great!\")\n",
    "else:\n",
    "    print(\"Wrong!\")"
   ]
  },
  {
   "source": [
    "短路逻辑和条件表达式\n",
    "\n",
    "布尔运算符只做必要的计算，这种行为称为短路逻辑(或者延迟求值)"
   ],
   "cell_type": "markdown",
   "metadata": {}
  },
  {
   "source": [
    "### 5.4.7 断言\n",
    "\n"
   ],
   "cell_type": "markdown",
   "metadata": {}
  },
  {
   "cell_type": "code",
   "execution_count": 22,
   "metadata": {},
   "outputs": [],
   "source": [
    "age=10\n",
    "assert 0<age<100"
   ]
  },
  {
   "cell_type": "code",
   "execution_count": 24,
   "metadata": {},
   "outputs": [
    {
     "output_type": "error",
     "ename": "AssertionError",
     "evalue": "The age must be realistic",
     "traceback": [
      "\u001b[1;31m---------------------------------------------------------------------------\u001b[0m",
      "\u001b[1;31mAssertionError\u001b[0m                            Traceback (most recent call last)",
      "\u001b[1;32m<ipython-input-24-d49a8f9509a1>\u001b[0m in \u001b[0;36m<module>\u001b[1;34m\u001b[0m\n\u001b[0;32m      2\u001b[0m \u001b[1;31m# AssertionError\u001b[0m\u001b[1;33m\u001b[0m\u001b[1;33m\u001b[0m\u001b[1;33m\u001b[0m\u001b[0m\n\u001b[0;32m      3\u001b[0m \u001b[1;31m# assert 0<age<100\u001b[0m\u001b[1;33m\u001b[0m\u001b[1;33m\u001b[0m\u001b[1;33m\u001b[0m\u001b[0m\n\u001b[1;32m----> 4\u001b[1;33m \u001b[1;32massert\u001b[0m \u001b[1;36m0\u001b[0m\u001b[1;33m<\u001b[0m\u001b[0mage\u001b[0m\u001b[1;33m<\u001b[0m\u001b[1;36m100\u001b[0m\u001b[1;33m,\u001b[0m\u001b[1;34m\"The age must be realistic\"\u001b[0m\u001b[1;33m\u001b[0m\u001b[1;33m\u001b[0m\u001b[0m\n\u001b[0m",
      "\u001b[1;31mAssertionError\u001b[0m: The age must be realistic"
     ]
    }
   ],
   "source": [
    "age=-1\n",
    "# AssertionError\n",
    "# assert 0<age<100\n",
    "# assert 后面增加的字符串可以对断言做出说明\n",
    "# assert 0<age<100,\"The age must be realistic\""
   ]
  },
  {
   "source": [
    "## 循环语句\n",
    "\n"
   ],
   "cell_type": "markdown",
   "metadata": {}
  },
  {
   "source": [
    "### while\n",
    "\n"
   ],
   "cell_type": "markdown",
   "metadata": {}
  },
  {
   "source": [
    "### for\n",
    "\n"
   ],
   "cell_type": "markdown",
   "metadata": {}
  },
  {
   "source": [
    "### 字典迭代\n",
    "\n"
   ],
   "cell_type": "markdown",
   "metadata": {}
  },
  {
   "source": [
    "### 迭代工具\n",
    "\n"
   ],
   "cell_type": "markdown",
   "metadata": {}
  },
  {
   "source": [
    "### 跳出循环\n",
    "\n"
   ],
   "cell_type": "markdown",
   "metadata": {}
  },
  {
   "source": [
    "### else\n",
    "\n"
   ],
   "cell_type": "markdown",
   "metadata": {}
  },
  {
   "source": [
    "## 简单推导\n",
    "\n"
   ],
   "cell_type": "markdown",
   "metadata": {}
  },
  {
   "source": [
    "## 三人行\n",
    "\n"
   ],
   "cell_type": "markdown",
   "metadata": {}
  },
  {
   "source": [
    "### 什么都不做\n",
    "\n"
   ],
   "cell_type": "markdown",
   "metadata": {}
  },
  {
   "cell_type": "code",
   "execution_count": 1,
   "metadata": {},
   "outputs": [],
   "source": [
    "### del\n",
    "\n"
   ]
  },
  {
   "cell_type": "code",
   "execution_count": 2,
   "metadata": {},
   "outputs": [],
   "source": [
    "### exec\n",
    "\n"
   ]
  },
  {
   "cell_type": "code",
   "execution_count": 3,
   "metadata": {},
   "outputs": [],
   "source": [
    "### eval\n",
    "\n"
   ]
  },
  {
   "cell_type": "code",
   "execution_count": null,
   "metadata": {},
   "outputs": [],
   "source": [
    "## 小结"
   ]
  }
 ],
 "metadata": {
  "kernelspec": {
   "display_name": "Python 3",
   "language": "python",
   "name": "python3"
  },
  "language_info": {
   "codemirror_mode": {
    "name": "ipython",
    "version": 2
   },
   "file_extension": ".py",
   "mimetype": "text/x-python",
   "name": "python",
   "nbconvert_exporter": "python",
   "pygments_lexer": "ipython2",
   "version": "3.6.12-final"
  },
  "pycharm": {
   "stem_cell": {
    "cell_type": "raw",
    "source": [],
    "metadata": {
     "collapsed": false
    }
   }
  }
 },
 "nbformat": 4,
 "nbformat_minor": 0
}